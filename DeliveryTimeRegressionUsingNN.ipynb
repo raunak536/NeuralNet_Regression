{
 "cells": [
  {
   "attachments": {},
   "cell_type": "markdown",
   "id": "f27c8010",
   "metadata": {},
   "source": [
    "# Imports"
   ]
  },
  {
   "cell_type": "code",
   "execution_count": 2,
   "id": "abb795a4",
   "metadata": {},
   "outputs": [],
   "source": [
    "import pandas as pd\n",
    "import numpy as np\n",
    "import matplotlib.pyplot as plt\n",
    "import seaborn as sns\n",
    "\n",
    "pd.options.display.max_columns = None\n",
    "import warnings\n",
    "warnings.filterwarnings('ignore')\n",
    "from sklearn.impute import KNNImputer, SimpleImputer\n",
    "from sklearn.preprocessing import StandardScaler\n",
    "from sklearn.model_selection import train_test_split\n",
    "from sklearn.ensemble import IsolationForest, RandomForestRegressor\n",
    "from sklearn.metrics import mean_squared_error, mean_absolute_error, r2_score\n",
    "import tensorflow as tf\n",
    "from tensorflow.keras.models import Sequential\n",
    "from tensorflow.keras.layers import Dense, Dropout, Input\n",
    "from tensorflow.keras.callbacks import EarlyStopping\n",
    "from tensorflow.keras.optimizers import Adam\n",
    "from keras_tuner.tuners import BayesianOptimization\n",
    "from keras_tuner import HyperParameters as hp\n",
    "\n",
    "def get_model_results(yt, yp):\n",
    "    print('MSE: ', round(mean_squared_error(yt, yp), 2))\n",
    "    print('RMSE: ', round(mean_squared_error(yt, yp) ** 0.5, 2))\n",
    "    print('MAE: ', round(mean_absolute_error(yt, yp),2))\n",
    "    print('R2: ', round(r2_score(yt, yp), 2))\n",
    "\n",
    "import warnings\n",
    "warnings.filterwarnings('ignore')"
   ]
  },
  {
   "attachments": {},
   "cell_type": "markdown",
   "id": "f0f369d5",
   "metadata": {},
   "source": [
    "# Problem Statement \n",
    "\n",
    "- We need to estimate accurately the time it takes to deliver the order to the customer.\n",
    "- We have data of nearly 2 Lakh orders with ~15 features that might affect the delivery time.\n",
    "- We will be building regression models for prediction of delivery time.\n",
    "\n",
    "# Insights\n",
    "\n",
    "- We have 2 Lakh orders with an average delivery time of 37 minutes.\n",
    "- RF gave a MSE of 202.66 and R2 score of 0.19\n",
    "- NN gave a MSE of 192.77 and R2 score of 0.23\n",
    "- NN is better able to predict the delivery time as compared to RF on the test data."
   ]
  },
  {
   "attachments": {},
   "cell_type": "markdown",
   "id": "a9619896",
   "metadata": {},
   "source": [
    "# Loading Data"
   ]
  },
  {
   "cell_type": "code",
   "execution_count": 7,
   "id": "0b5fdd31",
   "metadata": {},
   "outputs": [],
   "source": [
    "df = pd.read_csv('dataset.csv')"
   ]
  },
  {
   "attachments": {},
   "cell_type": "markdown",
   "id": "7ea91612",
   "metadata": {},
   "source": [
    "# Basic EDA"
   ]
  },
  {
   "cell_type": "code",
   "execution_count": 8,
   "id": "268d2fc6",
   "metadata": {},
   "outputs": [
    {
     "data": {
      "text/plain": [
       "(197428, 14)"
      ]
     },
     "execution_count": 8,
     "metadata": {},
     "output_type": "execute_result"
    }
   ],
   "source": [
    "df.shape"
   ]
  },
  {
   "cell_type": "code",
   "execution_count": 9,
   "id": "e333d27e",
   "metadata": {},
   "outputs": [
    {
     "name": "stdout",
     "output_type": "stream",
     "text": [
      "<class 'pandas.core.frame.DataFrame'>\n",
      "RangeIndex: 197428 entries, 0 to 197427\n",
      "Data columns (total 14 columns):\n",
      " #   Column                    Non-Null Count   Dtype  \n",
      "---  ------                    --------------   -----  \n",
      " 0   market_id                 196441 non-null  float64\n",
      " 1   created_at                197428 non-null  object \n",
      " 2   actual_delivery_time      197421 non-null  object \n",
      " 3   store_id                  197428 non-null  object \n",
      " 4   store_primary_category    192668 non-null  object \n",
      " 5   order_protocol            196433 non-null  float64\n",
      " 6   total_items               197428 non-null  int64  \n",
      " 7   subtotal                  197428 non-null  int64  \n",
      " 8   num_distinct_items        197428 non-null  int64  \n",
      " 9   min_item_price            197428 non-null  int64  \n",
      " 10  max_item_price            197428 non-null  int64  \n",
      " 11  total_onshift_partners    181166 non-null  float64\n",
      " 12  total_busy_partners       181166 non-null  float64\n",
      " 13  total_outstanding_orders  181166 non-null  float64\n",
      "dtypes: float64(5), int64(5), object(4)\n",
      "memory usage: 21.1+ MB\n"
     ]
    }
   ],
   "source": [
    "df.info()"
   ]
  },
  {
   "cell_type": "code",
   "execution_count": 10,
   "id": "e657ce1b",
   "metadata": {},
   "outputs": [
    {
     "data": {
      "text/html": [
       "<div>\n",
       "<style scoped>\n",
       "    .dataframe tbody tr th:only-of-type {\n",
       "        vertical-align: middle;\n",
       "    }\n",
       "\n",
       "    .dataframe tbody tr th {\n",
       "        vertical-align: top;\n",
       "    }\n",
       "\n",
       "    .dataframe thead th {\n",
       "        text-align: right;\n",
       "    }\n",
       "</style>\n",
       "<table border=\"1\" class=\"dataframe\">\n",
       "  <thead>\n",
       "    <tr style=\"text-align: right;\">\n",
       "      <th></th>\n",
       "      <th>market_id</th>\n",
       "      <th>created_at</th>\n",
       "      <th>actual_delivery_time</th>\n",
       "      <th>store_id</th>\n",
       "      <th>store_primary_category</th>\n",
       "      <th>order_protocol</th>\n",
       "      <th>total_items</th>\n",
       "      <th>subtotal</th>\n",
       "      <th>num_distinct_items</th>\n",
       "      <th>min_item_price</th>\n",
       "      <th>max_item_price</th>\n",
       "      <th>total_onshift_partners</th>\n",
       "      <th>total_busy_partners</th>\n",
       "      <th>total_outstanding_orders</th>\n",
       "    </tr>\n",
       "  </thead>\n",
       "  <tbody>\n",
       "    <tr>\n",
       "      <th>0</th>\n",
       "      <td>1.0</td>\n",
       "      <td>2015-02-06 22:24:17</td>\n",
       "      <td>2015-02-06 23:27:16</td>\n",
       "      <td>df263d996281d984952c07998dc54358</td>\n",
       "      <td>american</td>\n",
       "      <td>1.0</td>\n",
       "      <td>4</td>\n",
       "      <td>3441</td>\n",
       "      <td>4</td>\n",
       "      <td>557</td>\n",
       "      <td>1239</td>\n",
       "      <td>33.0</td>\n",
       "      <td>14.0</td>\n",
       "      <td>21.0</td>\n",
       "    </tr>\n",
       "    <tr>\n",
       "      <th>1</th>\n",
       "      <td>2.0</td>\n",
       "      <td>2015-02-10 21:49:25</td>\n",
       "      <td>2015-02-10 22:56:29</td>\n",
       "      <td>f0ade77b43923b38237db569b016ba25</td>\n",
       "      <td>mexican</td>\n",
       "      <td>2.0</td>\n",
       "      <td>1</td>\n",
       "      <td>1900</td>\n",
       "      <td>1</td>\n",
       "      <td>1400</td>\n",
       "      <td>1400</td>\n",
       "      <td>1.0</td>\n",
       "      <td>2.0</td>\n",
       "      <td>2.0</td>\n",
       "    </tr>\n",
       "    <tr>\n",
       "      <th>2</th>\n",
       "      <td>3.0</td>\n",
       "      <td>2015-01-22 20:39:28</td>\n",
       "      <td>2015-01-22 21:09:09</td>\n",
       "      <td>f0ade77b43923b38237db569b016ba25</td>\n",
       "      <td>NaN</td>\n",
       "      <td>1.0</td>\n",
       "      <td>1</td>\n",
       "      <td>1900</td>\n",
       "      <td>1</td>\n",
       "      <td>1900</td>\n",
       "      <td>1900</td>\n",
       "      <td>1.0</td>\n",
       "      <td>0.0</td>\n",
       "      <td>0.0</td>\n",
       "    </tr>\n",
       "    <tr>\n",
       "      <th>3</th>\n",
       "      <td>3.0</td>\n",
       "      <td>2015-02-03 21:21:45</td>\n",
       "      <td>2015-02-03 22:13:00</td>\n",
       "      <td>f0ade77b43923b38237db569b016ba25</td>\n",
       "      <td>NaN</td>\n",
       "      <td>1.0</td>\n",
       "      <td>6</td>\n",
       "      <td>6900</td>\n",
       "      <td>5</td>\n",
       "      <td>600</td>\n",
       "      <td>1800</td>\n",
       "      <td>1.0</td>\n",
       "      <td>1.0</td>\n",
       "      <td>2.0</td>\n",
       "    </tr>\n",
       "    <tr>\n",
       "      <th>4</th>\n",
       "      <td>3.0</td>\n",
       "      <td>2015-02-15 02:40:36</td>\n",
       "      <td>2015-02-15 03:20:26</td>\n",
       "      <td>f0ade77b43923b38237db569b016ba25</td>\n",
       "      <td>NaN</td>\n",
       "      <td>1.0</td>\n",
       "      <td>3</td>\n",
       "      <td>3900</td>\n",
       "      <td>3</td>\n",
       "      <td>1100</td>\n",
       "      <td>1600</td>\n",
       "      <td>6.0</td>\n",
       "      <td>6.0</td>\n",
       "      <td>9.0</td>\n",
       "    </tr>\n",
       "  </tbody>\n",
       "</table>\n",
       "</div>"
      ],
      "text/plain": [
       "   market_id           created_at actual_delivery_time  \\\n",
       "0        1.0  2015-02-06 22:24:17  2015-02-06 23:27:16   \n",
       "1        2.0  2015-02-10 21:49:25  2015-02-10 22:56:29   \n",
       "2        3.0  2015-01-22 20:39:28  2015-01-22 21:09:09   \n",
       "3        3.0  2015-02-03 21:21:45  2015-02-03 22:13:00   \n",
       "4        3.0  2015-02-15 02:40:36  2015-02-15 03:20:26   \n",
       "\n",
       "                           store_id store_primary_category  order_protocol  \\\n",
       "0  df263d996281d984952c07998dc54358               american             1.0   \n",
       "1  f0ade77b43923b38237db569b016ba25                mexican             2.0   \n",
       "2  f0ade77b43923b38237db569b016ba25                    NaN             1.0   \n",
       "3  f0ade77b43923b38237db569b016ba25                    NaN             1.0   \n",
       "4  f0ade77b43923b38237db569b016ba25                    NaN             1.0   \n",
       "\n",
       "   total_items  subtotal  num_distinct_items  min_item_price  max_item_price  \\\n",
       "0            4      3441                   4             557            1239   \n",
       "1            1      1900                   1            1400            1400   \n",
       "2            1      1900                   1            1900            1900   \n",
       "3            6      6900                   5             600            1800   \n",
       "4            3      3900                   3            1100            1600   \n",
       "\n",
       "   total_onshift_partners  total_busy_partners  total_outstanding_orders  \n",
       "0                    33.0                 14.0                      21.0  \n",
       "1                     1.0                  2.0                       2.0  \n",
       "2                     1.0                  0.0                       0.0  \n",
       "3                     1.0                  1.0                       2.0  \n",
       "4                     6.0                  6.0                       9.0  "
      ]
     },
     "execution_count": 10,
     "metadata": {},
     "output_type": "execute_result"
    }
   ],
   "source": [
    "df.head()"
   ]
  },
  {
   "cell_type": "code",
   "execution_count": 11,
   "id": "1a64429a",
   "metadata": {},
   "outputs": [
    {
     "data": {
      "text/html": [
       "<div>\n",
       "<style scoped>\n",
       "    .dataframe tbody tr th:only-of-type {\n",
       "        vertical-align: middle;\n",
       "    }\n",
       "\n",
       "    .dataframe tbody tr th {\n",
       "        vertical-align: top;\n",
       "    }\n",
       "\n",
       "    .dataframe thead th {\n",
       "        text-align: right;\n",
       "    }\n",
       "</style>\n",
       "<table border=\"1\" class=\"dataframe\">\n",
       "  <thead>\n",
       "    <tr style=\"text-align: right;\">\n",
       "      <th></th>\n",
       "      <th>market_id</th>\n",
       "      <th>order_protocol</th>\n",
       "      <th>total_items</th>\n",
       "      <th>subtotal</th>\n",
       "      <th>num_distinct_items</th>\n",
       "      <th>min_item_price</th>\n",
       "      <th>max_item_price</th>\n",
       "      <th>total_onshift_partners</th>\n",
       "      <th>total_busy_partners</th>\n",
       "      <th>total_outstanding_orders</th>\n",
       "    </tr>\n",
       "  </thead>\n",
       "  <tbody>\n",
       "    <tr>\n",
       "      <th>count</th>\n",
       "      <td>196441.000000</td>\n",
       "      <td>196433.000000</td>\n",
       "      <td>197428.000000</td>\n",
       "      <td>197428.000000</td>\n",
       "      <td>197428.000000</td>\n",
       "      <td>197428.000000</td>\n",
       "      <td>197428.000000</td>\n",
       "      <td>181166.000000</td>\n",
       "      <td>181166.000000</td>\n",
       "      <td>181166.000000</td>\n",
       "    </tr>\n",
       "    <tr>\n",
       "      <th>mean</th>\n",
       "      <td>2.978706</td>\n",
       "      <td>2.882352</td>\n",
       "      <td>3.196391</td>\n",
       "      <td>2682.331402</td>\n",
       "      <td>2.670791</td>\n",
       "      <td>686.218470</td>\n",
       "      <td>1159.588630</td>\n",
       "      <td>44.808093</td>\n",
       "      <td>41.739747</td>\n",
       "      <td>58.050065</td>\n",
       "    </tr>\n",
       "    <tr>\n",
       "      <th>std</th>\n",
       "      <td>1.524867</td>\n",
       "      <td>1.503771</td>\n",
       "      <td>2.666546</td>\n",
       "      <td>1823.093688</td>\n",
       "      <td>1.630255</td>\n",
       "      <td>522.038648</td>\n",
       "      <td>558.411377</td>\n",
       "      <td>34.526783</td>\n",
       "      <td>32.145733</td>\n",
       "      <td>52.661830</td>\n",
       "    </tr>\n",
       "    <tr>\n",
       "      <th>min</th>\n",
       "      <td>1.000000</td>\n",
       "      <td>1.000000</td>\n",
       "      <td>1.000000</td>\n",
       "      <td>0.000000</td>\n",
       "      <td>1.000000</td>\n",
       "      <td>-86.000000</td>\n",
       "      <td>0.000000</td>\n",
       "      <td>-4.000000</td>\n",
       "      <td>-5.000000</td>\n",
       "      <td>-6.000000</td>\n",
       "    </tr>\n",
       "    <tr>\n",
       "      <th>25%</th>\n",
       "      <td>2.000000</td>\n",
       "      <td>1.000000</td>\n",
       "      <td>2.000000</td>\n",
       "      <td>1400.000000</td>\n",
       "      <td>1.000000</td>\n",
       "      <td>299.000000</td>\n",
       "      <td>800.000000</td>\n",
       "      <td>17.000000</td>\n",
       "      <td>15.000000</td>\n",
       "      <td>17.000000</td>\n",
       "    </tr>\n",
       "    <tr>\n",
       "      <th>50%</th>\n",
       "      <td>3.000000</td>\n",
       "      <td>3.000000</td>\n",
       "      <td>3.000000</td>\n",
       "      <td>2200.000000</td>\n",
       "      <td>2.000000</td>\n",
       "      <td>595.000000</td>\n",
       "      <td>1095.000000</td>\n",
       "      <td>37.000000</td>\n",
       "      <td>34.000000</td>\n",
       "      <td>41.000000</td>\n",
       "    </tr>\n",
       "    <tr>\n",
       "      <th>75%</th>\n",
       "      <td>4.000000</td>\n",
       "      <td>4.000000</td>\n",
       "      <td>4.000000</td>\n",
       "      <td>3395.000000</td>\n",
       "      <td>3.000000</td>\n",
       "      <td>949.000000</td>\n",
       "      <td>1395.000000</td>\n",
       "      <td>65.000000</td>\n",
       "      <td>62.000000</td>\n",
       "      <td>85.000000</td>\n",
       "    </tr>\n",
       "    <tr>\n",
       "      <th>max</th>\n",
       "      <td>6.000000</td>\n",
       "      <td>7.000000</td>\n",
       "      <td>411.000000</td>\n",
       "      <td>27100.000000</td>\n",
       "      <td>20.000000</td>\n",
       "      <td>14700.000000</td>\n",
       "      <td>14700.000000</td>\n",
       "      <td>171.000000</td>\n",
       "      <td>154.000000</td>\n",
       "      <td>285.000000</td>\n",
       "    </tr>\n",
       "  </tbody>\n",
       "</table>\n",
       "</div>"
      ],
      "text/plain": [
       "           market_id  order_protocol    total_items       subtotal  \\\n",
       "count  196441.000000   196433.000000  197428.000000  197428.000000   \n",
       "mean        2.978706        2.882352       3.196391    2682.331402   \n",
       "std         1.524867        1.503771       2.666546    1823.093688   \n",
       "min         1.000000        1.000000       1.000000       0.000000   \n",
       "25%         2.000000        1.000000       2.000000    1400.000000   \n",
       "50%         3.000000        3.000000       3.000000    2200.000000   \n",
       "75%         4.000000        4.000000       4.000000    3395.000000   \n",
       "max         6.000000        7.000000     411.000000   27100.000000   \n",
       "\n",
       "       num_distinct_items  min_item_price  max_item_price  \\\n",
       "count       197428.000000   197428.000000   197428.000000   \n",
       "mean             2.670791      686.218470     1159.588630   \n",
       "std              1.630255      522.038648      558.411377   \n",
       "min              1.000000      -86.000000        0.000000   \n",
       "25%              1.000000      299.000000      800.000000   \n",
       "50%              2.000000      595.000000     1095.000000   \n",
       "75%              3.000000      949.000000     1395.000000   \n",
       "max             20.000000    14700.000000    14700.000000   \n",
       "\n",
       "       total_onshift_partners  total_busy_partners  total_outstanding_orders  \n",
       "count           181166.000000        181166.000000             181166.000000  \n",
       "mean                44.808093            41.739747                 58.050065  \n",
       "std                 34.526783            32.145733                 52.661830  \n",
       "min                 -4.000000            -5.000000                 -6.000000  \n",
       "25%                 17.000000            15.000000                 17.000000  \n",
       "50%                 37.000000            34.000000                 41.000000  \n",
       "75%                 65.000000            62.000000                 85.000000  \n",
       "max                171.000000           154.000000                285.000000  "
      ]
     },
     "execution_count": 11,
     "metadata": {},
     "output_type": "execute_result"
    }
   ],
   "source": [
    "df.describe()"
   ]
  },
  {
   "cell_type": "code",
   "execution_count": 12,
   "id": "5f820c05",
   "metadata": {},
   "outputs": [
    {
     "data": {
      "text/html": [
       "<div>\n",
       "<style scoped>\n",
       "    .dataframe tbody tr th:only-of-type {\n",
       "        vertical-align: middle;\n",
       "    }\n",
       "\n",
       "    .dataframe tbody tr th {\n",
       "        vertical-align: top;\n",
       "    }\n",
       "\n",
       "    .dataframe thead th {\n",
       "        text-align: right;\n",
       "    }\n",
       "</style>\n",
       "<table border=\"1\" class=\"dataframe\">\n",
       "  <thead>\n",
       "    <tr style=\"text-align: right;\">\n",
       "      <th></th>\n",
       "      <th>created_at</th>\n",
       "      <th>actual_delivery_time</th>\n",
       "      <th>store_id</th>\n",
       "      <th>store_primary_category</th>\n",
       "    </tr>\n",
       "  </thead>\n",
       "  <tbody>\n",
       "    <tr>\n",
       "      <th>count</th>\n",
       "      <td>197428</td>\n",
       "      <td>197421</td>\n",
       "      <td>197428</td>\n",
       "      <td>192668</td>\n",
       "    </tr>\n",
       "    <tr>\n",
       "      <th>unique</th>\n",
       "      <td>180985</td>\n",
       "      <td>178110</td>\n",
       "      <td>6743</td>\n",
       "      <td>74</td>\n",
       "    </tr>\n",
       "    <tr>\n",
       "      <th>top</th>\n",
       "      <td>2015-02-11 19:50:43</td>\n",
       "      <td>2015-02-11 20:40:45</td>\n",
       "      <td>d43ab110ab2489d6b9b2caa394bf920f</td>\n",
       "      <td>american</td>\n",
       "    </tr>\n",
       "    <tr>\n",
       "      <th>freq</th>\n",
       "      <td>6</td>\n",
       "      <td>5</td>\n",
       "      <td>937</td>\n",
       "      <td>19399</td>\n",
       "    </tr>\n",
       "  </tbody>\n",
       "</table>\n",
       "</div>"
      ],
      "text/plain": [
       "                 created_at actual_delivery_time  \\\n",
       "count                197428               197421   \n",
       "unique               180985               178110   \n",
       "top     2015-02-11 19:50:43  2015-02-11 20:40:45   \n",
       "freq                      6                    5   \n",
       "\n",
       "                                store_id store_primary_category  \n",
       "count                             197428                 192668  \n",
       "unique                              6743                     74  \n",
       "top     d43ab110ab2489d6b9b2caa394bf920f               american  \n",
       "freq                                 937                  19399  "
      ]
     },
     "execution_count": 12,
     "metadata": {},
     "output_type": "execute_result"
    }
   ],
   "source": [
    "df.describe(include='O')"
   ]
  },
  {
   "cell_type": "code",
   "execution_count": 13,
   "id": "db894477",
   "metadata": {},
   "outputs": [
    {
     "data": {
      "text/plain": [
       "total_onshift_partners      16262\n",
       "total_busy_partners         16262\n",
       "total_outstanding_orders    16262\n",
       "store_primary_category       4760\n",
       "order_protocol                995\n",
       "market_id                     987\n",
       "actual_delivery_time            7\n",
       "created_at                      0\n",
       "store_id                        0\n",
       "total_items                     0\n",
       "subtotal                        0\n",
       "num_distinct_items              0\n",
       "min_item_price                  0\n",
       "max_item_price                  0\n",
       "dtype: int64"
      ]
     },
     "execution_count": 13,
     "metadata": {},
     "output_type": "execute_result"
    }
   ],
   "source": [
    "# Null Rates\n",
    "df.isna().sum().sort_values(ascending=False)"
   ]
  },
  {
   "attachments": {},
   "cell_type": "markdown",
   "id": "6fffd370",
   "metadata": {},
   "source": [
    "# Data preprocessing and feature engineering"
   ]
  },
  {
   "cell_type": "code",
   "execution_count": 14,
   "id": "783802ba",
   "metadata": {},
   "outputs": [],
   "source": [
    "# not required\n",
    "df = df.drop(columns=['store_id'])\n",
    "\n",
    "# dropping null values from actual_delivery_time as this is required to create target variable\n",
    "df.dropna(subset=['actual_delivery_time'], inplace=True)"
   ]
  },
  {
   "cell_type": "code",
   "execution_count": 15,
   "id": "b8b23bfe",
   "metadata": {},
   "outputs": [],
   "source": [
    "# Convert to datetime\n",
    "for c in ['created_at', 'actual_delivery_time']:\n",
    "    df[c] = pd.to_datetime(df[c], format='%Y-%m-%d %H:%M:%S')"
   ]
  },
  {
   "cell_type": "code",
   "execution_count": 16,
   "id": "474a36d5",
   "metadata": {},
   "outputs": [],
   "source": [
    "# get the delivery time in minutes\n",
    "df['delivery_time_in_mins'] = (df['actual_delivery_time'] - df['created_at']).dt.total_seconds()/60\n",
    "df['delivery_time_in_mins'] = df['delivery_time_in_mins'].round()\n",
    "\n",
    "# get the day of the week from created_at\n",
    "df['day_of_week'] = df['created_at'].dt.day_of_week\n",
    "\n",
    "# get the hour from created_at\n",
    "df['hour'] = df['created_at'].dt.hour\n",
    "\n",
    "# not required anymore\n",
    "df.drop(columns=['created_at', 'actual_delivery_time'], inplace=True)\n",
    "\n",
    "df.reset_index(drop=True, inplace=True)\n"
   ]
  },
  {
   "cell_type": "code",
   "execution_count": 17,
   "id": "84b8cf16",
   "metadata": {},
   "outputs": [
    {
     "data": {
      "text/html": [
       "<div>\n",
       "<style scoped>\n",
       "    .dataframe tbody tr th:only-of-type {\n",
       "        vertical-align: middle;\n",
       "    }\n",
       "\n",
       "    .dataframe tbody tr th {\n",
       "        vertical-align: top;\n",
       "    }\n",
       "\n",
       "    .dataframe thead th {\n",
       "        text-align: right;\n",
       "    }\n",
       "</style>\n",
       "<table border=\"1\" class=\"dataframe\">\n",
       "  <thead>\n",
       "    <tr style=\"text-align: right;\">\n",
       "      <th></th>\n",
       "      <th>market_id</th>\n",
       "      <th>store_primary_category</th>\n",
       "      <th>order_protocol</th>\n",
       "      <th>total_items</th>\n",
       "      <th>subtotal</th>\n",
       "      <th>num_distinct_items</th>\n",
       "      <th>min_item_price</th>\n",
       "      <th>max_item_price</th>\n",
       "      <th>total_onshift_partners</th>\n",
       "      <th>total_busy_partners</th>\n",
       "      <th>total_outstanding_orders</th>\n",
       "      <th>delivery_time_in_mins</th>\n",
       "      <th>day_of_week</th>\n",
       "      <th>hour</th>\n",
       "    </tr>\n",
       "  </thead>\n",
       "  <tbody>\n",
       "    <tr>\n",
       "      <th>0</th>\n",
       "      <td>1.0</td>\n",
       "      <td>american</td>\n",
       "      <td>1.0</td>\n",
       "      <td>4</td>\n",
       "      <td>3441</td>\n",
       "      <td>4</td>\n",
       "      <td>557</td>\n",
       "      <td>1239</td>\n",
       "      <td>33.0</td>\n",
       "      <td>14.0</td>\n",
       "      <td>21.0</td>\n",
       "      <td>63.0</td>\n",
       "      <td>4</td>\n",
       "      <td>22</td>\n",
       "    </tr>\n",
       "    <tr>\n",
       "      <th>1</th>\n",
       "      <td>2.0</td>\n",
       "      <td>mexican</td>\n",
       "      <td>2.0</td>\n",
       "      <td>1</td>\n",
       "      <td>1900</td>\n",
       "      <td>1</td>\n",
       "      <td>1400</td>\n",
       "      <td>1400</td>\n",
       "      <td>1.0</td>\n",
       "      <td>2.0</td>\n",
       "      <td>2.0</td>\n",
       "      <td>67.0</td>\n",
       "      <td>1</td>\n",
       "      <td>21</td>\n",
       "    </tr>\n",
       "    <tr>\n",
       "      <th>2</th>\n",
       "      <td>3.0</td>\n",
       "      <td>NaN</td>\n",
       "      <td>1.0</td>\n",
       "      <td>1</td>\n",
       "      <td>1900</td>\n",
       "      <td>1</td>\n",
       "      <td>1900</td>\n",
       "      <td>1900</td>\n",
       "      <td>1.0</td>\n",
       "      <td>0.0</td>\n",
       "      <td>0.0</td>\n",
       "      <td>30.0</td>\n",
       "      <td>3</td>\n",
       "      <td>20</td>\n",
       "    </tr>\n",
       "    <tr>\n",
       "      <th>3</th>\n",
       "      <td>3.0</td>\n",
       "      <td>NaN</td>\n",
       "      <td>1.0</td>\n",
       "      <td>6</td>\n",
       "      <td>6900</td>\n",
       "      <td>5</td>\n",
       "      <td>600</td>\n",
       "      <td>1800</td>\n",
       "      <td>1.0</td>\n",
       "      <td>1.0</td>\n",
       "      <td>2.0</td>\n",
       "      <td>51.0</td>\n",
       "      <td>1</td>\n",
       "      <td>21</td>\n",
       "    </tr>\n",
       "    <tr>\n",
       "      <th>4</th>\n",
       "      <td>3.0</td>\n",
       "      <td>NaN</td>\n",
       "      <td>1.0</td>\n",
       "      <td>3</td>\n",
       "      <td>3900</td>\n",
       "      <td>3</td>\n",
       "      <td>1100</td>\n",
       "      <td>1600</td>\n",
       "      <td>6.0</td>\n",
       "      <td>6.0</td>\n",
       "      <td>9.0</td>\n",
       "      <td>40.0</td>\n",
       "      <td>6</td>\n",
       "      <td>2</td>\n",
       "    </tr>\n",
       "  </tbody>\n",
       "</table>\n",
       "</div>"
      ],
      "text/plain": [
       "   market_id store_primary_category  order_protocol  total_items  subtotal  \\\n",
       "0        1.0               american             1.0            4      3441   \n",
       "1        2.0                mexican             2.0            1      1900   \n",
       "2        3.0                    NaN             1.0            1      1900   \n",
       "3        3.0                    NaN             1.0            6      6900   \n",
       "4        3.0                    NaN             1.0            3      3900   \n",
       "\n",
       "   num_distinct_items  min_item_price  max_item_price  total_onshift_partners  \\\n",
       "0                   4             557            1239                    33.0   \n",
       "1                   1            1400            1400                     1.0   \n",
       "2                   1            1900            1900                     1.0   \n",
       "3                   5             600            1800                     1.0   \n",
       "4                   3            1100            1600                     6.0   \n",
       "\n",
       "   total_busy_partners  total_outstanding_orders  delivery_time_in_mins  \\\n",
       "0                 14.0                      21.0                   63.0   \n",
       "1                  2.0                       2.0                   67.0   \n",
       "2                  0.0                       0.0                   30.0   \n",
       "3                  1.0                       2.0                   51.0   \n",
       "4                  6.0                       9.0                   40.0   \n",
       "\n",
       "   day_of_week  hour  \n",
       "0            4    22  \n",
       "1            1    21  \n",
       "2            3    20  \n",
       "3            1    21  \n",
       "4            6     2  "
      ]
     },
     "execution_count": 17,
     "metadata": {},
     "output_type": "execute_result"
    }
   ],
   "source": [
    "df.head()"
   ]
  },
  {
   "attachments": {},
   "cell_type": "markdown",
   "id": "8f8b1ecc",
   "metadata": {},
   "source": [
    "### Handling Missing Values"
   ]
  },
  {
   "cell_type": "code",
   "execution_count": 18,
   "id": "7c32270d",
   "metadata": {},
   "outputs": [],
   "source": [
    "CAT_COLS = ['store_primary_category']\n",
    "NUM_COLS = ['market_id', 'order_protocol', 'total_items', 'subtotal','num_distinct_items', 'min_item_price',\n",
    "             'max_item_price','total_onshift_partners', 'total_busy_partners','total_outstanding_orders','day_of_week','hour']"
   ]
  },
  {
   "cell_type": "code",
   "execution_count": 19,
   "id": "2d9b97f9",
   "metadata": {},
   "outputs": [],
   "source": [
    "df[CAT_COLS] = df[CAT_COLS].astype('str')\n",
    "df[NUM_COLS] = df[NUM_COLS].astype('float')"
   ]
  },
  {
   "cell_type": "code",
   "execution_count": 20,
   "id": "fb40a782",
   "metadata": {},
   "outputs": [],
   "source": [
    "CAT_IMPUTER = SimpleImputer(missing_values='nan', strategy='most_frequent', add_indicator=True)\n",
    "NUM_IMPUTER = KNNImputer(missing_values=np.nan, n_neighbors=5, weights='distance', add_indicator=True, )\n",
    "\n",
    "df_cat = pd.DataFrame(CAT_IMPUTER.fit_transform(df[CAT_COLS]), columns=CAT_IMPUTER.get_feature_names_out(CAT_COLS))\n",
    "df_num = pd.DataFrame(NUM_IMPUTER.fit_transform(df[NUM_COLS]), columns=NUM_IMPUTER.get_feature_names_out(NUM_COLS))\n",
    "\n",
    "df.drop(columns=CAT_COLS + NUM_COLS, inplace=True)\n",
    "df = pd.concat([df, df_cat, df_num], axis=1)"
   ]
  },
  {
   "cell_type": "code",
   "execution_count": 21,
   "id": "4b381115",
   "metadata": {},
   "outputs": [
    {
     "data": {
      "text/html": [
       "<div>\n",
       "<style scoped>\n",
       "    .dataframe tbody tr th:only-of-type {\n",
       "        vertical-align: middle;\n",
       "    }\n",
       "\n",
       "    .dataframe tbody tr th {\n",
       "        vertical-align: top;\n",
       "    }\n",
       "\n",
       "    .dataframe thead th {\n",
       "        text-align: right;\n",
       "    }\n",
       "</style>\n",
       "<table border=\"1\" class=\"dataframe\">\n",
       "  <thead>\n",
       "    <tr style=\"text-align: right;\">\n",
       "      <th></th>\n",
       "      <th>delivery_time_in_mins</th>\n",
       "      <th>store_primary_category</th>\n",
       "      <th>missingindicator_store_primary_category</th>\n",
       "      <th>market_id</th>\n",
       "      <th>order_protocol</th>\n",
       "      <th>total_items</th>\n",
       "      <th>subtotal</th>\n",
       "      <th>num_distinct_items</th>\n",
       "      <th>min_item_price</th>\n",
       "      <th>max_item_price</th>\n",
       "      <th>total_onshift_partners</th>\n",
       "      <th>total_busy_partners</th>\n",
       "      <th>total_outstanding_orders</th>\n",
       "      <th>day_of_week</th>\n",
       "      <th>hour</th>\n",
       "      <th>missingindicator_market_id</th>\n",
       "      <th>missingindicator_order_protocol</th>\n",
       "      <th>missingindicator_total_onshift_partners</th>\n",
       "      <th>missingindicator_total_busy_partners</th>\n",
       "      <th>missingindicator_total_outstanding_orders</th>\n",
       "    </tr>\n",
       "  </thead>\n",
       "  <tbody>\n",
       "    <tr>\n",
       "      <th>0</th>\n",
       "      <td>63.0</td>\n",
       "      <td>american</td>\n",
       "      <td>False</td>\n",
       "      <td>1.0</td>\n",
       "      <td>1.0</td>\n",
       "      <td>4.0</td>\n",
       "      <td>3441.0</td>\n",
       "      <td>4.0</td>\n",
       "      <td>557.0</td>\n",
       "      <td>1239.0</td>\n",
       "      <td>33.0</td>\n",
       "      <td>14.0</td>\n",
       "      <td>21.0</td>\n",
       "      <td>4.0</td>\n",
       "      <td>22.0</td>\n",
       "      <td>0.0</td>\n",
       "      <td>0.0</td>\n",
       "      <td>0.0</td>\n",
       "      <td>0.0</td>\n",
       "      <td>0.0</td>\n",
       "    </tr>\n",
       "    <tr>\n",
       "      <th>1</th>\n",
       "      <td>67.0</td>\n",
       "      <td>mexican</td>\n",
       "      <td>False</td>\n",
       "      <td>2.0</td>\n",
       "      <td>2.0</td>\n",
       "      <td>1.0</td>\n",
       "      <td>1900.0</td>\n",
       "      <td>1.0</td>\n",
       "      <td>1400.0</td>\n",
       "      <td>1400.0</td>\n",
       "      <td>1.0</td>\n",
       "      <td>2.0</td>\n",
       "      <td>2.0</td>\n",
       "      <td>1.0</td>\n",
       "      <td>21.0</td>\n",
       "      <td>0.0</td>\n",
       "      <td>0.0</td>\n",
       "      <td>0.0</td>\n",
       "      <td>0.0</td>\n",
       "      <td>0.0</td>\n",
       "    </tr>\n",
       "    <tr>\n",
       "      <th>2</th>\n",
       "      <td>30.0</td>\n",
       "      <td>american</td>\n",
       "      <td>True</td>\n",
       "      <td>3.0</td>\n",
       "      <td>1.0</td>\n",
       "      <td>1.0</td>\n",
       "      <td>1900.0</td>\n",
       "      <td>1.0</td>\n",
       "      <td>1900.0</td>\n",
       "      <td>1900.0</td>\n",
       "      <td>1.0</td>\n",
       "      <td>0.0</td>\n",
       "      <td>0.0</td>\n",
       "      <td>3.0</td>\n",
       "      <td>20.0</td>\n",
       "      <td>0.0</td>\n",
       "      <td>0.0</td>\n",
       "      <td>0.0</td>\n",
       "      <td>0.0</td>\n",
       "      <td>0.0</td>\n",
       "    </tr>\n",
       "    <tr>\n",
       "      <th>3</th>\n",
       "      <td>51.0</td>\n",
       "      <td>american</td>\n",
       "      <td>True</td>\n",
       "      <td>3.0</td>\n",
       "      <td>1.0</td>\n",
       "      <td>6.0</td>\n",
       "      <td>6900.0</td>\n",
       "      <td>5.0</td>\n",
       "      <td>600.0</td>\n",
       "      <td>1800.0</td>\n",
       "      <td>1.0</td>\n",
       "      <td>1.0</td>\n",
       "      <td>2.0</td>\n",
       "      <td>1.0</td>\n",
       "      <td>21.0</td>\n",
       "      <td>0.0</td>\n",
       "      <td>0.0</td>\n",
       "      <td>0.0</td>\n",
       "      <td>0.0</td>\n",
       "      <td>0.0</td>\n",
       "    </tr>\n",
       "    <tr>\n",
       "      <th>4</th>\n",
       "      <td>40.0</td>\n",
       "      <td>american</td>\n",
       "      <td>True</td>\n",
       "      <td>3.0</td>\n",
       "      <td>1.0</td>\n",
       "      <td>3.0</td>\n",
       "      <td>3900.0</td>\n",
       "      <td>3.0</td>\n",
       "      <td>1100.0</td>\n",
       "      <td>1600.0</td>\n",
       "      <td>6.0</td>\n",
       "      <td>6.0</td>\n",
       "      <td>9.0</td>\n",
       "      <td>6.0</td>\n",
       "      <td>2.0</td>\n",
       "      <td>0.0</td>\n",
       "      <td>0.0</td>\n",
       "      <td>0.0</td>\n",
       "      <td>0.0</td>\n",
       "      <td>0.0</td>\n",
       "    </tr>\n",
       "  </tbody>\n",
       "</table>\n",
       "</div>"
      ],
      "text/plain": [
       "   delivery_time_in_mins store_primary_category  \\\n",
       "0                   63.0               american   \n",
       "1                   67.0                mexican   \n",
       "2                   30.0               american   \n",
       "3                   51.0               american   \n",
       "4                   40.0               american   \n",
       "\n",
       "  missingindicator_store_primary_category  market_id  order_protocol  \\\n",
       "0                                   False        1.0             1.0   \n",
       "1                                   False        2.0             2.0   \n",
       "2                                    True        3.0             1.0   \n",
       "3                                    True        3.0             1.0   \n",
       "4                                    True        3.0             1.0   \n",
       "\n",
       "   total_items  subtotal  num_distinct_items  min_item_price  max_item_price  \\\n",
       "0          4.0    3441.0                 4.0           557.0          1239.0   \n",
       "1          1.0    1900.0                 1.0          1400.0          1400.0   \n",
       "2          1.0    1900.0                 1.0          1900.0          1900.0   \n",
       "3          6.0    6900.0                 5.0           600.0          1800.0   \n",
       "4          3.0    3900.0                 3.0          1100.0          1600.0   \n",
       "\n",
       "   total_onshift_partners  total_busy_partners  total_outstanding_orders  \\\n",
       "0                    33.0                 14.0                      21.0   \n",
       "1                     1.0                  2.0                       2.0   \n",
       "2                     1.0                  0.0                       0.0   \n",
       "3                     1.0                  1.0                       2.0   \n",
       "4                     6.0                  6.0                       9.0   \n",
       "\n",
       "   day_of_week  hour  missingindicator_market_id  \\\n",
       "0          4.0  22.0                         0.0   \n",
       "1          1.0  21.0                         0.0   \n",
       "2          3.0  20.0                         0.0   \n",
       "3          1.0  21.0                         0.0   \n",
       "4          6.0   2.0                         0.0   \n",
       "\n",
       "   missingindicator_order_protocol  missingindicator_total_onshift_partners  \\\n",
       "0                              0.0                                      0.0   \n",
       "1                              0.0                                      0.0   \n",
       "2                              0.0                                      0.0   \n",
       "3                              0.0                                      0.0   \n",
       "4                              0.0                                      0.0   \n",
       "\n",
       "   missingindicator_total_busy_partners  \\\n",
       "0                                   0.0   \n",
       "1                                   0.0   \n",
       "2                                   0.0   \n",
       "3                                   0.0   \n",
       "4                                   0.0   \n",
       "\n",
       "   missingindicator_total_outstanding_orders  \n",
       "0                                        0.0  \n",
       "1                                        0.0  \n",
       "2                                        0.0  \n",
       "3                                        0.0  \n",
       "4                                        0.0  "
      ]
     },
     "execution_count": 21,
     "metadata": {},
     "output_type": "execute_result"
    }
   ],
   "source": [
    "df.head()"
   ]
  },
  {
   "cell_type": "code",
   "execution_count": 22,
   "id": "46dba727",
   "metadata": {},
   "outputs": [
    {
     "data": {
      "text/plain": [
       "delivery_time_in_mins                        0\n",
       "store_primary_category                       0\n",
       "missingindicator_total_busy_partners         0\n",
       "missingindicator_total_onshift_partners      0\n",
       "missingindicator_order_protocol              0\n",
       "missingindicator_market_id                   0\n",
       "hour                                         0\n",
       "day_of_week                                  0\n",
       "total_outstanding_orders                     0\n",
       "total_busy_partners                          0\n",
       "total_onshift_partners                       0\n",
       "max_item_price                               0\n",
       "min_item_price                               0\n",
       "num_distinct_items                           0\n",
       "subtotal                                     0\n",
       "total_items                                  0\n",
       "order_protocol                               0\n",
       "market_id                                    0\n",
       "missingindicator_store_primary_category      0\n",
       "missingindicator_total_outstanding_orders    0\n",
       "dtype: int64"
      ]
     },
     "execution_count": 22,
     "metadata": {},
     "output_type": "execute_result"
    }
   ],
   "source": [
    "# Null Rates\n",
    "df.isna().sum().sort_values(ascending=False)"
   ]
  },
  {
   "attachments": {},
   "cell_type": "markdown",
   "id": "9082b5fa",
   "metadata": {},
   "source": [
    "### DataType Conversion"
   ]
  },
  {
   "cell_type": "code",
   "execution_count": 23,
   "id": "a7ef4187",
   "metadata": {},
   "outputs": [],
   "source": [
    "df['missingindicator_store_primary_category'] = df['missingindicator_store_primary_category'].astype('int')"
   ]
  },
  {
   "attachments": {},
   "cell_type": "markdown",
   "id": "de015929",
   "metadata": {},
   "source": [
    "### Frequency Encoding"
   ]
  },
  {
   "cell_type": "code",
   "execution_count": 24,
   "id": "2688f156",
   "metadata": {},
   "outputs": [
    {
     "data": {
      "text/plain": [
       "74"
      ]
     },
     "execution_count": 24,
     "metadata": {},
     "output_type": "execute_result"
    }
   ],
   "source": [
    "df['store_primary_category'].nunique()"
   ]
  },
  {
   "cell_type": "code",
   "execution_count": 25,
   "id": "cd1ae586",
   "metadata": {},
   "outputs": [],
   "source": [
    "FREQ_DICT = (round(df['store_primary_category'].value_counts(1) * 100, 2)).to_dict()\n",
    "df['store_primary_category'] = df['store_primary_category'].apply(lambda x: FREQ_DICT.get(x,0))"
   ]
  },
  {
   "cell_type": "code",
   "execution_count": 27,
   "id": "a808350d",
   "metadata": {},
   "outputs": [
    {
     "data": {
      "text/html": [
       "<div>\n",
       "<style scoped>\n",
       "    .dataframe tbody tr th:only-of-type {\n",
       "        vertical-align: middle;\n",
       "    }\n",
       "\n",
       "    .dataframe tbody tr th {\n",
       "        vertical-align: top;\n",
       "    }\n",
       "\n",
       "    .dataframe thead th {\n",
       "        text-align: right;\n",
       "    }\n",
       "</style>\n",
       "<table border=\"1\" class=\"dataframe\">\n",
       "  <thead>\n",
       "    <tr style=\"text-align: right;\">\n",
       "      <th></th>\n",
       "      <th>delivery_time_in_mins</th>\n",
       "      <th>store_primary_category</th>\n",
       "      <th>missingindicator_store_primary_category</th>\n",
       "      <th>market_id</th>\n",
       "      <th>order_protocol</th>\n",
       "      <th>total_items</th>\n",
       "      <th>subtotal</th>\n",
       "      <th>num_distinct_items</th>\n",
       "      <th>min_item_price</th>\n",
       "      <th>max_item_price</th>\n",
       "      <th>total_onshift_partners</th>\n",
       "      <th>total_busy_partners</th>\n",
       "      <th>total_outstanding_orders</th>\n",
       "      <th>day_of_week</th>\n",
       "      <th>hour</th>\n",
       "      <th>missingindicator_market_id</th>\n",
       "      <th>missingindicator_order_protocol</th>\n",
       "      <th>missingindicator_total_onshift_partners</th>\n",
       "      <th>missingindicator_total_busy_partners</th>\n",
       "      <th>missingindicator_total_outstanding_orders</th>\n",
       "    </tr>\n",
       "  </thead>\n",
       "  <tbody>\n",
       "    <tr>\n",
       "      <th>0</th>\n",
       "      <td>63.0</td>\n",
       "      <td>12.24</td>\n",
       "      <td>0</td>\n",
       "      <td>1.0</td>\n",
       "      <td>1.0</td>\n",
       "      <td>4.0</td>\n",
       "      <td>3441.0</td>\n",
       "      <td>4.0</td>\n",
       "      <td>557.0</td>\n",
       "      <td>1239.0</td>\n",
       "      <td>33.0</td>\n",
       "      <td>14.0</td>\n",
       "      <td>21.0</td>\n",
       "      <td>4.0</td>\n",
       "      <td>22.0</td>\n",
       "      <td>0.0</td>\n",
       "      <td>0.0</td>\n",
       "      <td>0.0</td>\n",
       "      <td>0.0</td>\n",
       "      <td>0.0</td>\n",
       "    </tr>\n",
       "    <tr>\n",
       "      <th>1</th>\n",
       "      <td>67.0</td>\n",
       "      <td>8.66</td>\n",
       "      <td>0</td>\n",
       "      <td>2.0</td>\n",
       "      <td>2.0</td>\n",
       "      <td>1.0</td>\n",
       "      <td>1900.0</td>\n",
       "      <td>1.0</td>\n",
       "      <td>1400.0</td>\n",
       "      <td>1400.0</td>\n",
       "      <td>1.0</td>\n",
       "      <td>2.0</td>\n",
       "      <td>2.0</td>\n",
       "      <td>1.0</td>\n",
       "      <td>21.0</td>\n",
       "      <td>0.0</td>\n",
       "      <td>0.0</td>\n",
       "      <td>0.0</td>\n",
       "      <td>0.0</td>\n",
       "      <td>0.0</td>\n",
       "    </tr>\n",
       "    <tr>\n",
       "      <th>2</th>\n",
       "      <td>30.0</td>\n",
       "      <td>12.24</td>\n",
       "      <td>1</td>\n",
       "      <td>3.0</td>\n",
       "      <td>1.0</td>\n",
       "      <td>1.0</td>\n",
       "      <td>1900.0</td>\n",
       "      <td>1.0</td>\n",
       "      <td>1900.0</td>\n",
       "      <td>1900.0</td>\n",
       "      <td>1.0</td>\n",
       "      <td>0.0</td>\n",
       "      <td>0.0</td>\n",
       "      <td>3.0</td>\n",
       "      <td>20.0</td>\n",
       "      <td>0.0</td>\n",
       "      <td>0.0</td>\n",
       "      <td>0.0</td>\n",
       "      <td>0.0</td>\n",
       "      <td>0.0</td>\n",
       "    </tr>\n",
       "    <tr>\n",
       "      <th>3</th>\n",
       "      <td>51.0</td>\n",
       "      <td>12.24</td>\n",
       "      <td>1</td>\n",
       "      <td>3.0</td>\n",
       "      <td>1.0</td>\n",
       "      <td>6.0</td>\n",
       "      <td>6900.0</td>\n",
       "      <td>5.0</td>\n",
       "      <td>600.0</td>\n",
       "      <td>1800.0</td>\n",
       "      <td>1.0</td>\n",
       "      <td>1.0</td>\n",
       "      <td>2.0</td>\n",
       "      <td>1.0</td>\n",
       "      <td>21.0</td>\n",
       "      <td>0.0</td>\n",
       "      <td>0.0</td>\n",
       "      <td>0.0</td>\n",
       "      <td>0.0</td>\n",
       "      <td>0.0</td>\n",
       "    </tr>\n",
       "    <tr>\n",
       "      <th>4</th>\n",
       "      <td>40.0</td>\n",
       "      <td>12.24</td>\n",
       "      <td>1</td>\n",
       "      <td>3.0</td>\n",
       "      <td>1.0</td>\n",
       "      <td>3.0</td>\n",
       "      <td>3900.0</td>\n",
       "      <td>3.0</td>\n",
       "      <td>1100.0</td>\n",
       "      <td>1600.0</td>\n",
       "      <td>6.0</td>\n",
       "      <td>6.0</td>\n",
       "      <td>9.0</td>\n",
       "      <td>6.0</td>\n",
       "      <td>2.0</td>\n",
       "      <td>0.0</td>\n",
       "      <td>0.0</td>\n",
       "      <td>0.0</td>\n",
       "      <td>0.0</td>\n",
       "      <td>0.0</td>\n",
       "    </tr>\n",
       "  </tbody>\n",
       "</table>\n",
       "</div>"
      ],
      "text/plain": [
       "   delivery_time_in_mins  store_primary_category  \\\n",
       "0                   63.0                   12.24   \n",
       "1                   67.0                    8.66   \n",
       "2                   30.0                   12.24   \n",
       "3                   51.0                   12.24   \n",
       "4                   40.0                   12.24   \n",
       "\n",
       "   missingindicator_store_primary_category  market_id  order_protocol  \\\n",
       "0                                        0        1.0             1.0   \n",
       "1                                        0        2.0             2.0   \n",
       "2                                        1        3.0             1.0   \n",
       "3                                        1        3.0             1.0   \n",
       "4                                        1        3.0             1.0   \n",
       "\n",
       "   total_items  subtotal  num_distinct_items  min_item_price  max_item_price  \\\n",
       "0          4.0    3441.0                 4.0           557.0          1239.0   \n",
       "1          1.0    1900.0                 1.0          1400.0          1400.0   \n",
       "2          1.0    1900.0                 1.0          1900.0          1900.0   \n",
       "3          6.0    6900.0                 5.0           600.0          1800.0   \n",
       "4          3.0    3900.0                 3.0          1100.0          1600.0   \n",
       "\n",
       "   total_onshift_partners  total_busy_partners  total_outstanding_orders  \\\n",
       "0                    33.0                 14.0                      21.0   \n",
       "1                     1.0                  2.0                       2.0   \n",
       "2                     1.0                  0.0                       0.0   \n",
       "3                     1.0                  1.0                       2.0   \n",
       "4                     6.0                  6.0                       9.0   \n",
       "\n",
       "   day_of_week  hour  missingindicator_market_id  \\\n",
       "0          4.0  22.0                         0.0   \n",
       "1          1.0  21.0                         0.0   \n",
       "2          3.0  20.0                         0.0   \n",
       "3          1.0  21.0                         0.0   \n",
       "4          6.0   2.0                         0.0   \n",
       "\n",
       "   missingindicator_order_protocol  missingindicator_total_onshift_partners  \\\n",
       "0                              0.0                                      0.0   \n",
       "1                              0.0                                      0.0   \n",
       "2                              0.0                                      0.0   \n",
       "3                              0.0                                      0.0   \n",
       "4                              0.0                                      0.0   \n",
       "\n",
       "   missingindicator_total_busy_partners  \\\n",
       "0                                   0.0   \n",
       "1                                   0.0   \n",
       "2                                   0.0   \n",
       "3                                   0.0   \n",
       "4                                   0.0   \n",
       "\n",
       "   missingindicator_total_outstanding_orders  \n",
       "0                                        0.0  \n",
       "1                                        0.0  \n",
       "2                                        0.0  \n",
       "3                                        0.0  \n",
       "4                                        0.0  "
      ]
     },
     "execution_count": 27,
     "metadata": {},
     "output_type": "execute_result"
    }
   ],
   "source": [
    "df.head()"
   ]
  },
  {
   "attachments": {},
   "cell_type": "markdown",
   "id": "612edbc1",
   "metadata": {},
   "source": [
    "# Data visualization and Outlier Removal"
   ]
  },
  {
   "attachments": {},
   "cell_type": "markdown",
   "id": "28287945",
   "metadata": {},
   "source": [
    "#### Before outlier removal"
   ]
  },
  {
   "cell_type": "code",
   "execution_count": 3,
   "id": "bc1944b2",
   "metadata": {},
   "outputs": [
    {
     "data": {
      "image/png": "[encoded data removed]",
      "text/plain": [
       "<Figure size 3600x1440 with 14 Axes>"
      ]
     },
     "metadata": {
      "needs_background": "light"
     },
     "output_type": "display_data"
    }
   ],
   "source": [
    "# Visualize only relevant columns\n",
    "viz_df = df.loc[:, [i for i in df.columns if 'missingindicator' not in i]].copy(deep=True)\n",
    "fig,ax = plt.subplots(2,7,figsize=(50, 20))\n",
    "for i,col in enumerate(viz_df.columns):\n",
    "    sns.boxplot(x=col, data=viz_df, ax=ax[i//7][i%7])"
   ]
  },
  {
   "cell_type": "code",
   "execution_count": 6,
   "id": "1c9853be",
   "metadata": {},
   "outputs": [],
   "source": [
    "POSSIBLE_OUTLIER_COLS = ['delivery_time_in_mins','total_items','subtotal','num_distinct_items','min_item_price', 'max_item_price']\n",
    "IF = IsolationForest(n_estimators=1000, random_state=42, n_jobs=-1)\n",
    "OUTLIER_FLAG = IF.fit_predict(df[POSSIBLE_OUTLIER_COLS])\n",
    "df = df[OUTLIER_FLAG == 1]\n",
    "df.reset_index(drop=True, inplace=True)\n",
    "df.shape"
   ]
  },
  {
   "cell_type": "code",
   "execution_count": 4,
   "id": "7be5d3bc",
   "metadata": {},
   "outputs": [
    {
     "data": {
      "text/plain": [
       "(173805, 20)"
      ]
     },
     "execution_count": 4,
     "metadata": {},
     "output_type": "execute_result"
    }
   ],
   "source": [
    "df.shape"
   ]
  },
  {
   "attachments": {},
   "cell_type": "markdown",
   "id": "aca692ed",
   "metadata": {},
   "source": [
    "#### After outlier removal"
   ]
  },
  {
   "cell_type": "code",
   "execution_count": 5,
   "id": "7c12cfe7",
   "metadata": {},
   "outputs": [
    {
     "data": {
      "image/png": "[encoded data removed]",
      "text/plain": [
       "<Figure size 3600x1440 with 14 Axes>"
      ]
     },
     "metadata": {
      "needs_background": "light"
     },
     "output_type": "display_data"
    }
   ],
   "source": [
    "# Visualize only relevant columns\n",
    "viz_df = df.loc[:, [i for i in df.columns if 'missingindicator' not in i]]\n",
    "fig,ax = plt.subplots(2,7,figsize=(50, 20))\n",
    "for i,col in enumerate(viz_df.columns):\n",
    "    sns.boxplot(x=col, data=viz_df, ax=ax[i//7][i%7])"
   ]
  },
  {
   "cell_type": "code",
   "execution_count": 6,
   "id": "336207a7",
   "metadata": {},
   "outputs": [
    {
     "data": {
      "image/png": "[encoded data removed]",
      "text/plain": [
       "<Figure size 3600x1080 with 10 Axes>"
      ]
     },
     "metadata": {
      "needs_background": "light"
     },
     "output_type": "display_data"
    }
   ],
   "source": [
    "fig,ax = plt.subplots(2,5,figsize=(50, 15))\n",
    "for e, col in enumerate(['total_items', 'subtotal','num_distinct_items', 'min_item_price','max_item_price','total_onshift_partners', 'total_busy_partners','total_outstanding_orders','day_of_week','hour']):\n",
    "    viz_df[col + '_bucket'] = pd.qcut(viz_df[col], q=10, duplicates='drop')\n",
    "    tmp = viz_df.groupby(col + '_bucket')['delivery_time_in_mins'].mean()   \n",
    "    sns.barplot(x=tmp.index, y=tmp.values, ax=ax[e//5][e%5], palette='Blues_d')"
   ]
  },
  {
   "attachments": {},
   "cell_type": "markdown",
   "id": "fc2c469c",
   "metadata": {},
   "source": [
    "# Model training"
   ]
  },
  {
   "cell_type": "code",
   "execution_count": 7,
   "id": "f3439382",
   "metadata": {},
   "outputs": [
    {
     "data": {
      "text/plain": [
       "((173805, 19), (173805,), 45.82422830183251)"
      ]
     },
     "execution_count": 7,
     "metadata": {},
     "output_type": "execute_result"
    }
   ],
   "source": [
    "X, y = df.drop(columns=['delivery_time_in_mins']), df['delivery_time_in_mins']\n",
    "X.shape, y.shape, y.mean()"
   ]
  },
  {
   "cell_type": "code",
   "execution_count": 8,
   "id": "3c32cd52",
   "metadata": {},
   "outputs": [
    {
     "data": {
      "text/plain": [
       "((139044, 19),\n",
       " (34761, 19),\n",
       " (139044,),\n",
       " (34761,),\n",
       " 45.82255976525416,\n",
       " 45.83090244814591)"
      ]
     },
     "execution_count": 8,
     "metadata": {},
     "output_type": "execute_result"
    }
   ],
   "source": [
    "X_train, X_test, y_train, y_test  = train_test_split(X, y, test_size=0.2, random_state=42)\n",
    "X_train.shape, X_test.shape, y_train.shape, y_test.shape , y_train.mean(), y_test.mean()"
   ]
  },
  {
   "attachments": {},
   "cell_type": "markdown",
   "id": "dc5e8723",
   "metadata": {},
   "source": [
    "### RF"
   ]
  },
  {
   "cell_type": "code",
   "execution_count": 9,
   "id": "3467df80",
   "metadata": {},
   "outputs": [],
   "source": [
    "rf_model = RandomForestRegressor(n_estimators=2000,\n",
    "                                max_depth=10,\n",
    "                                max_features='sqrt',\n",
    "                                bootstrap=True,\n",
    "                                n_jobs=-1,\n",
    "                                random_state=42,\n",
    "                                max_samples=0.7)"
   ]
  },
  {
   "cell_type": "code",
   "execution_count": 10,
   "id": "bbbf858d",
   "metadata": {},
   "outputs": [
    {
     "data": {
      "text/html": [
       "<style>#sk-container-id-1 {color: black;background-color: white;}#sk-container-id-1 pre{padding: 0;}#sk-container-id-1 div.sk-toggleable {background-color: white;}#sk-container-id-1 label.sk-toggleable__label {cursor: pointer;display: block;width: 100%;margin-bottom: 0;padding: 0.3em;box-sizing: border-box;text-align: center;}#sk-container-id-1 label.sk-toggleable__label-arrow:before {content: \"▸\";float: left;margin-right: 0.25em;color: #696969;}#sk-container-id-1 label.sk-toggleable__label-arrow:hover:before {color: black;}#sk-container-id-1 div.sk-estimator:hover label.sk-toggleable__label-arrow:before {color: black;}#sk-container-id-1 div.sk-toggleable__content {max-height: 0;max-width: 0;overflow: hidden;text-align: left;background-color: #f0f8ff;}#sk-container-id-1 div.sk-toggleable__content pre {margin: 0.2em;color: black;border-radius: 0.25em;background-color: #f0f8ff;}#sk-container-id-1 input.sk-toggleable__control:checked~div.sk-toggleable__content {max-height: 200px;max-width: 100%;overflow: auto;}#sk-container-id-1 input.sk-toggleable__control:checked~label.sk-toggleable__label-arrow:before {content: \"▾\";}#sk-container-id-1 div.sk-estimator input.sk-toggleable__control:checked~label.sk-toggleable__label {background-color: #d4ebff;}#sk-container-id-1 div.sk-label input.sk-toggleable__control:checked~label.sk-toggleable__label {background-color: #d4ebff;}#sk-container-id-1 input.sk-hidden--visually {border: 0;clip: rect(1px 1px 1px 1px);clip: rect(1px, 1px, 1px, 1px);height: 1px;margin: -1px;overflow: hidden;padding: 0;position: absolute;width: 1px;}#sk-container-id-1 div.sk-estimator {font-family: monospace;background-color: #f0f8ff;border: 1px dotted black;border-radius: 0.25em;box-sizing: border-box;margin-bottom: 0.5em;}#sk-container-id-1 div.sk-estimator:hover {background-color: #d4ebff;}#sk-container-id-1 div.sk-parallel-item::after {content: \"\";width: 100%;border-bottom: 1px solid gray;flex-grow: 1;}#sk-container-id-1 div.sk-label:hover label.sk-toggleable__label {background-color: #d4ebff;}#sk-container-id-1 div.sk-serial::before {content: \"\";position: absolute;border-left: 1px solid gray;box-sizing: border-box;top: 0;bottom: 0;left: 50%;z-index: 0;}#sk-container-id-1 div.sk-serial {display: flex;flex-direction: column;align-items: center;background-color: white;padding-right: 0.2em;padding-left: 0.2em;position: relative;}#sk-container-id-1 div.sk-item {position: relative;z-index: 1;}#sk-container-id-1 div.sk-parallel {display: flex;align-items: stretch;justify-content: center;background-color: white;position: relative;}#sk-container-id-1 div.sk-item::before, #sk-container-id-1 div.sk-parallel-item::before {content: \"\";position: absolute;border-left: 1px solid gray;box-sizing: border-box;top: 0;bottom: 0;left: 50%;z-index: -1;}#sk-container-id-1 div.sk-parallel-item {display: flex;flex-direction: column;z-index: 1;position: relative;background-color: white;}#sk-container-id-1 div.sk-parallel-item:first-child::after {align-self: flex-end;width: 50%;}#sk-container-id-1 div.sk-parallel-item:last-child::after {align-self: flex-start;width: 50%;}#sk-container-id-1 div.sk-parallel-item:only-child::after {width: 0;}#sk-container-id-1 div.sk-dashed-wrapped {border: 1px dashed gray;margin: 0 0.4em 0.5em 0.4em;box-sizing: border-box;padding-bottom: 0.4em;background-color: white;}#sk-container-id-1 div.sk-label label {font-family: monospace;font-weight: bold;display: inline-block;line-height: 1.2em;}#sk-container-id-1 div.sk-label-container {text-align: center;}#sk-container-id-1 div.sk-container {/* jupyter's `normalize.less` sets `[hidden] { display: none; }` but bootstrap.min.css set `[hidden] { display: none !important; }` so we also need the `!important` here to be able to override the default hidden behavior on the sphinx rendered scikit-learn.org. See: https://github.com/scikit-learn/scikit-learn/issues/21755 */display: inline-block !important;position: relative;}#sk-container-id-1 div.sk-text-repr-fallback {display: none;}</style><div id=\"sk-container-id-1\" class=\"sk-top-container\"><div class=\"sk-text-repr-fallback\"><pre>RandomForestRegressor(max_depth=10, max_features=&#x27;sqrt&#x27;, max_samples=0.7,\n",
       "                      n_estimators=2000, n_jobs=-1, random_state=42)</pre><b>In a Jupyter environment, please rerun this cell to show the HTML representation or trust the notebook. <br />On GitHub, the HTML representation is unable to render, please try loading this page with nbviewer.org.</b></div><div class=\"sk-container\" hidden><div class=\"sk-item\"><div class=\"sk-estimator sk-toggleable\"><input class=\"sk-toggleable__control sk-hidden--visually\" id=\"sk-estimator-id-1\" type=\"checkbox\" checked><label for=\"sk-estimator-id-1\" class=\"sk-toggleable__label sk-toggleable__label-arrow\">RandomForestRegressor</label><div class=\"sk-toggleable__content\"><pre>RandomForestRegressor(max_depth=10, max_features=&#x27;sqrt&#x27;, max_samples=0.7,\n",
       "                      n_estimators=2000, n_jobs=-1, random_state=42)</pre></div></div></div></div></div>"
      ],
      "text/plain": [
       "RandomForestRegressor(max_depth=10, max_features='sqrt', max_samples=0.7,\n",
       "                      n_estimators=2000, n_jobs=-1, random_state=42)"
      ]
     },
     "execution_count": 10,
     "metadata": {},
     "output_type": "execute_result"
    }
   ],
   "source": [
    "rf_model.fit(X_train, y_train)"
   ]
  },
  {
   "cell_type": "code",
   "execution_count": 11,
   "id": "32afbc85",
   "metadata": {},
   "outputs": [],
   "source": [
    "test_preds = rf_model.predict(X_test)"
   ]
  },
  {
   "cell_type": "code",
   "execution_count": 12,
   "id": "b584d4c7",
   "metadata": {},
   "outputs": [
    {
     "name": "stdout",
     "output_type": "stream",
     "text": [
      "MSE:  202.66\n",
      "RMSE:  14.24\n",
      "MAE:  10.96\n",
      "R2:  0.19\n"
     ]
    }
   ],
   "source": [
    "get_model_results(y_test, test_preds)"
   ]
  },
  {
   "attachments": {},
   "cell_type": "markdown",
   "id": "112bd98e",
   "metadata": {},
   "source": [
    "### NN"
   ]
  },
  {
   "attachments": {},
   "cell_type": "markdown",
   "id": "a5868c33",
   "metadata": {},
   "source": [
    "#### Hyperparameter tuning"
   ]
  },
  {
   "cell_type": "code",
   "execution_count": 6,
   "id": "0c4c5be7",
   "metadata": {},
   "outputs": [
    {
     "data": {
      "text/plain": [
       "((111235, 19),\n",
       " (27809, 19),\n",
       " (111235,),\n",
       " (27809,),\n",
       " 45.86937564615454,\n",
       " 45.63529792513215)"
      ]
     },
     "execution_count": 6,
     "metadata": {},
     "output_type": "execute_result"
    }
   ],
   "source": [
    "X_train_without_eval, X_eval, y_train_without_eval, y_eval = train_test_split(X_train, y_train, test_size=0.2, random_state=42)\n",
    "X_train_without_eval.shape, X_eval.shape, y_train_without_eval.shape, y_eval.shape , y_train_without_eval.mean(), y_eval.mean()"
   ]
  },
  {
   "cell_type": "code",
   "execution_count": 7,
   "id": "2ce2ecf5",
   "metadata": {},
   "outputs": [],
   "source": [
    "ss = StandardScaler()\n",
    "X_train_without_eval = ss.fit_transform(X_train_without_eval)\n",
    "X_eval = ss.transform(X_eval)"
   ]
  },
  {
   "cell_type": "code",
   "execution_count": 8,
   "id": "193bb490",
   "metadata": {},
   "outputs": [
    {
     "data": {
      "text/plain": [
       "(111235, 19)"
      ]
     },
     "execution_count": 8,
     "metadata": {},
     "output_type": "execute_result"
    }
   ],
   "source": [
    "X_train_without_eval.shape"
   ]
  },
  {
   "cell_type": "code",
   "execution_count": 9,
   "id": "49fb5692",
   "metadata": {},
   "outputs": [],
   "source": [
    "def build_model(hp):\n",
    "    n_neurons = hp.Int('n_neurons', min_value=32, max_value=512, step=32)\n",
    "    n_layers = hp.Int('n_layers', min_value=2, max_value=5, step=1)\n",
    "    \n",
    "    nn_model = Sequential()\n",
    "    nn_model.add(Input(shape=(19,)))\n",
    "    for i in range(n_layers):\n",
    "        nn_model.add(Dense(n_neurons, activation='relu'))\n",
    "    if hp.Boolean(\"dropout\"):\n",
    "        nn_model.add(Dropout(rate=0.2))\n",
    "    nn_model.add(Dense(1))\n",
    "    nn_model.compile(loss='mse', optimizer=Adam(learning_rate=0.01))\n",
    "    return nn_model"
   ]
  },
  {
   "cell_type": "code",
   "execution_count": 11,
   "id": "db84ee2f",
   "metadata": {},
   "outputs": [],
   "source": [
    "kt_tuner = BayesianOptimization(hypermodel=build_model,\n",
    "                                objective='val_loss',\n",
    "                                max_trials=10,\n",
    "                                executions_per_trial=1,\n",
    "                                directory='nn_logs',\n",
    "                                project_name='nn_logs',\n",
    "                                seed=42)"
   ]
  },
  {
   "cell_type": "code",
   "execution_count": 12,
   "id": "542d1907",
   "metadata": {},
   "outputs": [],
   "source": [
    "early_stopping_cb = EarlyStopping(monitor='val_loss', mode='min', patience=5, restore_best_weights=True)"
   ]
  },
  {
   "cell_type": "code",
   "execution_count": 13,
   "id": "81d73b80",
   "metadata": {},
   "outputs": [
    {
     "name": "stdout",
     "output_type": "stream",
     "text": [
      "Trial 10 Complete [00h 05m 42s]\n",
      "val_loss: 190.97113037109375\n",
      "\n",
      "Best val_loss So Far: 187.6023712158203\n",
      "Total elapsed time: 00h 41m 02s\n",
      "INFO:tensorflow:Oracle triggered exit\n"
     ]
    }
   ],
   "source": [
    "kt_tuner.search(X_train_without_eval, y_train_without_eval, epochs=30, validation_data=(X_eval, y_eval), callbacks=[early_stopping_cb])"
   ]
  },
  {
   "attachments": {},
   "cell_type": "markdown",
   "id": "423ddd12",
   "metadata": {},
   "source": [
    "#### Using best hyperparameters from keras tuner"
   ]
  },
  {
   "cell_type": "code",
   "execution_count": 14,
   "id": "ea11727a",
   "metadata": {},
   "outputs": [
    {
     "data": {
      "text/plain": [
       "{'n_neurons': 256, 'n_layers': 3, 'dropout': False}"
      ]
     },
     "execution_count": 14,
     "metadata": {},
     "output_type": "execute_result"
    }
   ],
   "source": [
    "kt_tuner.get_best_hyperparameters()[0].values"
   ]
  },
  {
   "cell_type": "code",
   "execution_count": 16,
   "id": "ee2d5ec2",
   "metadata": {},
   "outputs": [],
   "source": [
    "nn_model = Sequential()\n",
    "nn_model.add(Input(shape=(19,)))\n",
    "for i in range(3):\n",
    "    nn_model.add(Dense(256, activation='relu'))\n",
    "nn_model.add(Dense(1))\n",
    "nn_model.compile(loss='mse', optimizer=Adam(learning_rate=0.01))"
   ]
  },
  {
   "cell_type": "code",
   "execution_count": 17,
   "id": "2bf3b7f4",
   "metadata": {},
   "outputs": [],
   "source": [
    "ss = StandardScaler()\n",
    "X_train = ss.fit_transform(X_train)\n",
    "X_test = ss.transform(X_test)"
   ]
  },
  {
   "cell_type": "code",
   "execution_count": 18,
   "id": "0fbb306b",
   "metadata": {},
   "outputs": [],
   "source": [
    "early_stopping_cb = EarlyStopping(monitor='loss', mode='min', patience=5, restore_best_weights=True)"
   ]
  },
  {
   "cell_type": "code",
   "execution_count": 19,
   "id": "a53b4a83",
   "metadata": {},
   "outputs": [
    {
     "name": "stdout",
     "output_type": "stream",
     "text": [
      "Epoch 1/30\n",
      "4346/4346 [==============================] - 22s 5ms/step - loss: 221.3454\n",
      "Epoch 2/30\n",
      "4346/4346 [==============================] - 20s 5ms/step - loss: 206.7511\n",
      "Epoch 3/30\n",
      "4346/4346 [==============================] - 19s 4ms/step - loss: 202.9696\n",
      "Epoch 4/30\n",
      "4346/4346 [==============================] - 18s 4ms/step - loss: 201.0072\n",
      "Epoch 5/30\n",
      "4346/4346 [==============================] - 18s 4ms/step - loss: 199.9245\n",
      "Epoch 6/30\n",
      "4346/4346 [==============================] - 20s 5ms/step - loss: 199.1128\n",
      "Epoch 7/30\n",
      "4346/4346 [==============================] - 18s 4ms/step - loss: 198.1236\n",
      "Epoch 8/30\n",
      "4346/4346 [==============================] - 20s 5ms/step - loss: 197.6230\n",
      "Epoch 9/30\n",
      "4346/4346 [==============================] - 20s 5ms/step - loss: 197.2802\n",
      "Epoch 10/30\n",
      "4346/4346 [==============================] - 20s 5ms/step - loss: 197.0338\n",
      "Epoch 11/30\n",
      "4346/4346 [==============================] - 20s 5ms/step - loss: 196.2776\n",
      "Epoch 12/30\n",
      "4346/4346 [==============================] - 15s 3ms/step - loss: 195.9445\n",
      "Epoch 13/30\n",
      "4346/4346 [==============================] - 14s 3ms/step - loss: 195.7246\n",
      "Epoch 14/30\n",
      "4346/4346 [==============================] - 17s 4ms/step - loss: 195.2327\n",
      "Epoch 15/30\n",
      "4346/4346 [==============================] - 25s 6ms/step - loss: 194.9520\n",
      "Epoch 16/30\n",
      "4346/4346 [==============================] - 15s 4ms/step - loss: 194.7427\n",
      "Epoch 17/30\n",
      "4346/4346 [==============================] - 13s 3ms/step - loss: 194.5245\n",
      "Epoch 18/30\n",
      "4346/4346 [==============================] - 12s 3ms/step - loss: 193.7822\n",
      "Epoch 19/30\n",
      "4346/4346 [==============================] - 13s 3ms/step - loss: 193.6334\n",
      "Epoch 20/30\n",
      "4346/4346 [==============================] - 13s 3ms/step - loss: 192.9495\n",
      "Epoch 21/30\n",
      "4346/4346 [==============================] - 12s 3ms/step - loss: 192.2204\n",
      "Epoch 22/30\n",
      "4346/4346 [==============================] - 16s 4ms/step - loss: 191.8542\n",
      "Epoch 23/30\n",
      "4346/4346 [==============================] - 13s 3ms/step - loss: 191.8266\n",
      "Epoch 24/30\n",
      "4346/4346 [==============================] - 15s 3ms/step - loss: 191.6108\n",
      "Epoch 25/30\n",
      "4346/4346 [==============================] - 16s 4ms/step - loss: 191.4166\n",
      "Epoch 26/30\n",
      "4346/4346 [==============================] - 16s 4ms/step - loss: 191.2341\n",
      "Epoch 27/30\n",
      "4346/4346 [==============================] - 15s 4ms/step - loss: 190.9458\n",
      "Epoch 28/30\n",
      "4346/4346 [==============================] - 15s 3ms/step - loss: 190.9434\n",
      "Epoch 29/30\n",
      "4346/4346 [==============================] - 14s 3ms/step - loss: 190.6017\n",
      "Epoch 30/30\n",
      "4346/4346 [==============================] - 15s 4ms/step - loss: 190.7636\n"
     ]
    },
    {
     "data": {
      "text/plain": [
       "<keras.callbacks.History at 0x28a3bb54730>"
      ]
     },
     "execution_count": 19,
     "metadata": {},
     "output_type": "execute_result"
    }
   ],
   "source": [
    "nn_model.fit(X_train, y_train, epochs=30, callbacks=[early_stopping_cb])"
   ]
  },
  {
   "cell_type": "code",
   "execution_count": 20,
   "id": "2081ca11",
   "metadata": {},
   "outputs": [
    {
     "name": "stdout",
     "output_type": "stream",
     "text": [
      "1087/1087 [==============================] - 2s 2ms/step\n"
     ]
    }
   ],
   "source": [
    "test_preds = nn_model.predict(X_test)"
   ]
  },
  {
   "cell_type": "code",
   "execution_count": 22,
   "id": "269fa41d",
   "metadata": {},
   "outputs": [
    {
     "name": "stdout",
     "output_type": "stream",
     "text": [
      "MSE:  192.77\n",
      "RMSE:  13.88\n",
      "MAE:  10.71\n",
      "R2:  0.23\n"
     ]
    }
   ],
   "source": [
    "get_model_results(y_test, test_preds)"
   ]
  }
 ],
 "metadata": {
  "hide_input": false,
  "kernelspec": {
   "display_name": "scaler",
   "language": "python",
   "name": "python3"
  },
  "language_info": {
   "codemirror_mode": {
    "name": "ipython",
    "version": 3
   },
   "file_extension": ".py",
   "mimetype": "text/x-python",
   "name": "python",
   "nbconvert_exporter": "python",
   "pygments_lexer": "ipython3",
   "version": "3.8.13"
  }
 },
 "nbformat": 4,
 "nbformat_minor": 5
}
